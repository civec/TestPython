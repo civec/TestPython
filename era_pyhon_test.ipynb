{
 "cells": [
  {
   "cell_type": "markdown",
   "id": "a0270d01-ee1f-4012-82e9-615589553915",
   "metadata": {},
   "source": [
    "# ERA Python test"
   ]
  },
  {
   "cell_type": "markdown",
   "id": "fb4a4819-8208-4949-8a44-b4f78cad75e2",
   "metadata": {},
   "source": [
    "* cílem testu je ověření znalostí Pythonu případně schopnosti si tyto znalosti dohledat a osvojit\n",
    "* složitost otázek se stupňuje, nemusíte vyřešit vše ale zkus dojít co nejdál\n",
    "* test je dělaný v prostředí Jupyter (iPython) jendotlivé buňky typu *Code* je možné z webového prohlížeše přímo spouštět\n",
    "* textové odpovědi přidejte jako buňku typu Markdovn nebo jako Python komentář\n",
    "* po dokončení Jupyter Notebook stáhněte (File -> Download)  a zašlete na <a href=\"mailto:a.vrba@era.aero\">a.vrba@era.aero</a>\n",
    "* binder prostředí se může po čase ukončit, rozpracovaný test si raději uložte, pokud od něj potřebujete odejít, později můžete test opět nahrát přes File browser v levé části (ikona Upload Files)"
   ]
  },
  {
   "cell_type": "markdown",
   "id": "9e31daef-586e-44ff-8818-d7e600deda42",
   "metadata": {},
   "source": [
    "### 1. Vytiskněte 'Hello World!'"
   ]
  },
  {
   "cell_type": "code",
   "execution_count": null,
   "id": "266a5fe4-abf8-419b-aed2-195c4ea02c1b",
   "metadata": {},
   "outputs": [],
   "source": []
  },
  {
   "cell_type": "markdown",
   "id": "8e5fd3c9-903c-44b0-853b-fe3641a6b273",
   "metadata": {},
   "source": [
    "### 2. Zavolejte funkci která určí délku (počet znaků) proměnné `text` typu `str`"
   ]
  },
  {
   "cell_type": "code",
   "execution_count": 9,
   "id": "c944a5a4-f321-40b3-aa44-2497d2b3dac5",
   "metadata": {},
   "outputs": [],
   "source": [
    "text = \"Kolik mám znaků?\""
   ]
  },
  {
   "cell_type": "markdown",
   "id": "4fd43ba9-7f5b-4dde-aa09-6a0f13ed3d3a",
   "metadata": {},
   "source": [
    "### 3. Přidejte  hodnotu 5 na konec listu `nums`"
   ]
  },
  {
   "cell_type": "code",
   "execution_count": 8,
   "id": "6ca157af-6cfe-426d-952c-3defb9217323",
   "metadata": {},
   "outputs": [],
   "source": [
    "nums = [1, 8, 3]"
   ]
  },
  {
   "cell_type": "markdown",
   "id": "45499d6a-c014-40ec-9082-d0f0faf4c61b",
   "metadata": {},
   "source": [
    "### 4. Vytvořte funkci `add_one` které má vstupní proměnnou - `a` typu list, funkce přičte ke každému členu listu hodnotu 1 a vrátí takto upravený list"
   ]
  },
  {
   "cell_type": "code",
   "execution_count": 13,
   "id": "ef92f456-1333-4873-b6dc-cc78d1e1e228",
   "metadata": {},
   "outputs": [],
   "source": [
    "def add_one(a: list):\n",
    "    # dokonči funkci\n",
    "    pass"
   ]
  },
  {
   "cell_type": "markdown",
   "id": "c8b720f0-4f8c-484b-b7a5-32964cee83f9",
   "metadata": {},
   "source": [
    "### 5. Zavolejte funkci definovanou v předchozím kroku s proměnou `nums3` a ulož návratovou hodnotu do proměnné `nums4`"
   ]
  },
  {
   "cell_type": "code",
   "execution_count": null,
   "id": "00295b60-a8ce-4e08-9fca-361e7dead7bb",
   "metadata": {},
   "outputs": [],
   "source": [
    "nums3 = [4, 8, 9, 4]"
   ]
  },
  {
   "cell_type": "markdown",
   "id": "07a5550b-de83-4aff-9aba-0da9c8e6ee4a",
   "metadata": {},
   "source": [
    "### 6. Zkontolujte, jestli se změnily hodnoty proměnné `nums3` po volání funkce v předchozím kroku. Pokud ano, vysvětlete proč."
   ]
  },
  {
   "cell_type": "code",
   "execution_count": null,
   "id": "4b0891f6-b140-464f-adc1-601515da8d8c",
   "metadata": {},
   "outputs": [],
   "source": []
  },
  {
   "cell_type": "markdown",
   "id": "535d307b-c153-4e5e-9471-ea89fb940296",
   "metadata": {},
   "source": [
    "### 7. Zkuste provést přičtení hodnoty 1 do proměnné typu list pomocí **list comprehension**"
   ]
  },
  {
   "cell_type": "code",
   "execution_count": null,
   "id": "04a16bd1-068a-43b0-a1b2-2e42e780316e",
   "metadata": {},
   "outputs": [],
   "source": []
  },
  {
   "cell_type": "markdown",
   "id": "b0a9cfdf-9b49-498b-b718-19964dfade48",
   "metadata": {},
   "source": [
    "### 8. Načtěte **HDF5** soubor `test.hd5` (klič : `data`) do proměnné `df` typu **Pandas.DataFrame()**"
   ]
  },
  {
   "cell_type": "code",
   "execution_count": null,
   "id": "27a9c607-a889-4ff4-8cee-bcb5bfcae185",
   "metadata": {
    "tags": []
   },
   "outputs": [],
   "source": [
    "import pandas as pd\n"
   ]
  },
  {
   "cell_type": "markdown",
   "id": "74c8da19-50dc-4074-a8cc-b628c605b101",
   "metadata": {},
   "source": [
    "### 9. Co za data soubor obsahuje? Zkuste najít *min* a *max* hodnotu všech sloupců."
   ]
  },
  {
   "cell_type": "code",
   "execution_count": null,
   "id": "4f429ee2-47cc-497f-a375-6ab90fa20d8e",
   "metadata": {},
   "outputs": [],
   "source": []
  }
 ],
 "metadata": {
  "kernelspec": {
   "display_name": "Python 3 (ipykernel)",
   "language": "python",
   "name": "python3"
  },
  "language_info": {
   "codemirror_mode": {
    "name": "ipython",
    "version": 3
   },
   "file_extension": ".py",
   "mimetype": "text/x-python",
   "name": "python",
   "nbconvert_exporter": "python",
   "pygments_lexer": "ipython3",
   "version": "3.9.7"
  }
 },
 "nbformat": 4,
 "nbformat_minor": 5
}
